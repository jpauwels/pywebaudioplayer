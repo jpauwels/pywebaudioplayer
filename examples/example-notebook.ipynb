{
 "cells": [
  {
   "cell_type": "markdown",
   "metadata": {
    "button": false,
    "new_sheet": false,
    "run_control": {
     "read_only": false
    },
    "toc": true
   },
   "source": [
    "<h1>Table of Contents<span class=\"tocSkip\"></span></h1>\n",
    "<div class=\"toc\"><ul class=\"toc-item\"><li><span><a href=\"#WaveSurfer\" data-toc-modified-id=\"WaveSurfer-1\"><span class=\"toc-item-num\">1&nbsp;&nbsp;</span>WaveSurfer</a></span></li><li><span><a href=\"#Waveform_playlist\" data-toc-modified-id=\"Waveform_playlist-2\"><span class=\"toc-item-num\">2&nbsp;&nbsp;</span>Waveform_playlist</a></span></li><li><span><a href=\"#TrackSwitch\" data-toc-modified-id=\"TrackSwitch-3\"><span class=\"toc-item-num\">3&nbsp;&nbsp;</span>TrackSwitch</a></span></li></ul></div>"
   ]
  },
  {
   "cell_type": "code",
   "execution_count": null,
   "metadata": {
    "button": false,
    "new_sheet": false,
    "run_control": {
     "read_only": false
    }
   },
   "outputs": [],
   "source": [
    "import IPython.display\n",
    "from os.path import join\n",
    "basedir = 'media'"
   ]
  },
  {
   "cell_type": "code",
   "execution_count": null,
   "metadata": {
    "button": false,
    "new_sheet": false,
    "run_control": {
     "read_only": false
    }
   },
   "outputs": [],
   "source": [
    "IPython.display.Audio(join(basedir, 'bass.mp3'))"
   ]
  },
  {
   "cell_type": "code",
   "execution_count": null,
   "metadata": {
    "button": false,
    "new_sheet": false,
    "run_control": {
     "read_only": false
    }
   },
   "outputs": [],
   "source": [
    "import pywebaudioplayer.notebook as pwa\n",
    "dir(pwa)"
   ]
  },
  {
   "cell_type": "markdown",
   "metadata": {
    "button": false,
    "new_sheet": false,
    "run_control": {
     "read_only": false
    }
   },
   "source": [
    "## WaveSurfer"
   ]
  },
  {
   "cell_type": "code",
   "execution_count": null,
   "metadata": {
    "button": false,
    "new_sheet": false,
    "run_control": {
     "read_only": false
    }
   },
   "outputs": [],
   "source": [
    "w = pwa.wavesurfer(join(basedir, 'bass.mp3'))\n",
    "IPython.display.HTML(w)"
   ]
  },
  {
   "cell_type": "markdown",
   "metadata": {
    "button": false,
    "new_sheet": false,
    "run_control": {
     "read_only": false
    }
   },
   "source": [
    "## Waveform_playlist"
   ]
  },
  {
   "cell_type": "code",
   "execution_count": null,
   "metadata": {
    "button": false,
    "new_sheet": false,
    "run_control": {
     "read_only": false
    }
   },
   "outputs": [],
   "source": [
    "p = pwa.waveform_playlist([{'title': 'Drums', 'path': join(basedir, 'drums.mp3')},\n",
    "    {'title': 'Synth', 'path': join(basedir, 'synth.mp3')},\n",
    "    {'title': 'Bass', 'path': join(basedir, 'bass.mp3')},\n",
    "    {'title': 'Violin', 'path': join(basedir, 'violins.mp3')},\n",
    "    ], {'text_controls': True}, {'played_wave_colour': '#0000ff', 'unplayed_wave_colour': '#ff0000'})\n",
    "IPython.display.HTML(p)"
   ]
  },
  {
   "cell_type": "markdown",
   "metadata": {
    "button": false,
    "new_sheet": false,
    "run_control": {
     "read_only": false
    }
   },
   "source": [
    "## TrackSwitch"
   ]
  },
  {
   "cell_type": "code",
   "execution_count": null,
   "metadata": {
    "button": false,
    "new_sheet": false,
    "run_control": {
     "read_only": false
    }
   },
   "outputs": [],
   "source": [
    "tracks = [{'title': 'Drums', 'image': join(basedir, 'drums.png'), 'path': join(basedir, 'drums.mp3'), 'mimetype': 'audio/mpeg'},\n",
    "          {'title': 'Synth', 'image': join(basedir, 'synth.png'), 'path': join(basedir, 'synth.mp3'), 'mimetype': 'audio/mpeg'},\n",
    "          {'title': 'Bass', 'image': join(basedir, 'bass.png'), 'path': join(basedir, 'bass.mp3'), 'mimetype': 'audio/mpeg'},\n",
    "          {'title': 'Violin', 'image': join(basedir, 'violins.png'), 'path': join(basedir, 'violins.mp3'), 'mimetype': 'audio/mpeg'}]"
   ]
  },
  {
   "cell_type": "code",
   "execution_count": null,
   "metadata": {
    "button": false,
    "new_sheet": false,
    "run_control": {
     "read_only": false
    }
   },
   "outputs": [],
   "source": [
    "ts1 = pwa.trackswitch(tracks,\n",
    "    text='Example trackswitch.js instance.', seekable_image=join(basedir, 'mix.png'), seek_margin=(4,4))\n",
    "IPython.display.HTML(ts1)"
   ]
  },
  {
   "cell_type": "markdown",
   "metadata": {
    "button": false,
    "new_sheet": false,
    "run_control": {
     "read_only": false
    }
   },
   "source": [
    "###### Pass matplotlib.Figure"
   ]
  },
  {
   "cell_type": "code",
   "execution_count": null,
   "metadata": {
    "button": false,
    "new_sheet": false,
    "run_control": {
     "read_only": false
    }
   },
   "outputs": [],
   "source": [
    "import numpy as np\n",
    "samplerate = 8000\n",
    "freq = 440\n",
    "duration = 3\n",
    "t = np.arange(duration*samplerate)\n",
    "f0 = np.sin(2*np.pi*freq*t/samplerate)\n",
    "f1 = np.sin(2*np.pi*2*freq*t/samplerate)\n",
    "f2 = np.sin(2*np.pi*3*freq*t/samplerate)\n",
    "f3 = np.sin(2*np.pi*4*freq*t/samplerate)\n",
    "f4 = np.sin(2*np.pi*5*freq*t/samplerate)\n",
    "f5 = np.sin(2*np.pi*6*freq*t/samplerate)\n",
    "f6 = np.sin(2*np.pi*7*freq*t/samplerate)\n",
    "complex_sine = f0+f1+f2+f3+f4+f5+f6"
   ]
  },
  {
   "cell_type": "code",
   "execution_count": null,
   "metadata": {
    "button": false,
    "new_sheet": false,
    "run_control": {
     "read_only": false
    }
   },
   "outputs": [],
   "source": [
    "import matplotlib.pyplot as plt\n",
    "fig, ax = plt.subplots(ncols=1, figsize=(10,4), dpi=72);\n",
    "ax.specgram(complex_sine, Fs=samplerate, detrend='none');"
   ]
  },
  {
   "cell_type": "code",
   "execution_count": null,
   "metadata": {
    "button": false,
    "new_sheet": false,
    "run_control": {
     "read_only": false
    }
   },
   "outputs": [],
   "source": [
    "ts2 = pwa.trackswitch([{'title': 'Fundamental', 'samples': (f0, samplerate), 'path': join(basedir, 'fundamental.wav')},\n",
    "             {'title': 'First overtone', 'samples': (f1, samplerate), 'path': join(basedir, 'first.wav')},\n",
    "             {'title': 'Second overtone', 'samples': (f2, samplerate), 'path': join(basedir, 'second.wav')},\n",
    "             {'title': 'Third overtone', 'samples': (f3, samplerate), 'path': join(basedir, 'third.wav')},\n",
    "             {'title': 'Fourth overtone', 'samples': (f4, samplerate), 'path': join(basedir, 'fourth.wav')},\n",
    "             {'title': 'Fifth overtone', 'samples': (f5, samplerate), 'path': join(basedir, 'fifth.wav')},\n",
    "             {'title': 'Sixth overtone', 'samples': (f6, samplerate), 'path': join(basedir, 'sixth.wav')}],\n",
    "            seekable_image=(fig, join(basedir, 'spectrogram.png')), repeat=True)\n",
    "IPython.display.HTML(ts2)"
   ]
  },
  {
   "cell_type": "code",
   "execution_count": null,
   "metadata": {
    "button": false,
    "new_sheet": false,
    "run_control": {
     "read_only": false
    }
   },
   "outputs": [],
   "source": []
  },
  {
   "cell_type": "code",
   "execution_count": null,
   "metadata": {
    "button": false,
    "new_sheet": false,
    "run_control": {
     "read_only": false
    }
   },
   "outputs": [],
   "source": []
  }
 ],
 "metadata": {
  "kernelspec": {
   "display_name": "Python 3",
   "language": "python",
   "name": "python3"
  },
  "language_info": {
   "codemirror_mode": {
    "name": "ipython",
    "version": 3
   },
   "file_extension": ".py",
   "mimetype": "text/x-python",
   "name": "python",
   "nbconvert_exporter": "python",
   "pygments_lexer": "ipython3",
   "version": "3.7.5"
  },
  "toc": {
   "base_numbering": 1,
   "nav_menu": {},
   "number_sections": true,
   "sideBar": true,
   "skip_h1_title": false,
   "title_cell": "Table of Contents",
   "title_sidebar": "Contents",
   "toc_cell": true,
   "toc_position": {},
   "toc_section_display": true,
   "toc_window_display": false
  }
 },
 "nbformat": 4,
 "nbformat_minor": 2
}
